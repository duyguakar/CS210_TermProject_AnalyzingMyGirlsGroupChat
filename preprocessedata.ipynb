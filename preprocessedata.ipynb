{
 "cells": [
  {
   "cell_type": "markdown",
   "id": "2b4fb3d8-d959-4482-9541-f6581482ba94",
   "metadata": {},
   "source": [
    "**Imports and Functions**"
   ]
  },
  {
   "cell_type": "code",
   "execution_count": null,
   "id": "6206f2b0-f5dd-4764-a5cc-5e7bd6153dcd",
   "metadata": {},
   "outputs": [],
   "source": []
  },
  {
   "cell_type": "markdown",
   "id": "572cba0c-5b50-4c25-af32-d13cb1008af7",
   "metadata": {
    "editable": true,
    "slideshow": {
     "slide_type": ""
    },
    "tags": []
   },
   "source": [
    "**Deal With The Devil First**\n",
    "\n",
    "As I was quite afraid that the name  of my friends would be displayed as I saved them on graph axes, I modified the raw  data file so that their names would show up more formally. The following is the script I prepared to obtain a list of how I originally saved them.\n"
   ]
  },
  {
   "cell_type": "code",
   "execution_count": 6,
   "id": "3a4c0da3-07e3-4b9c-a2db-6bffad705c45",
   "metadata": {},
   "outputs": [
    {
     "name": "stdout",
     "output_type": "stream",
     "text": [
      "Unique senders in the chat:\n",
      "['sohbet' 'Kocamm❣️🙈🐣' 'Benim Manit🫠💜yeni' 'Ponçik poğaçam' 'Sarı Çiyan'\n",
      " 'Isırmalık Turşu🥹❤️' 'Azra Gülboo' 'Duygu Akar']\n",
      "Chat data has been structured and saved to 'structured_chat_data.csv'.\n"
     ]
    }
   ],
   "source": [
    "import re\n",
    "import pandas as pd\n",
    "\n",
    "# Step 1: Read the chat file\n",
    "file_path = \"_chat.txt\" \n",
    "with open(file_path, \"r\", encoding=\"utf-8\") as file:\n",
    "    chat_data = file.readlines()\n",
    "\n",
    "# Step 2: Define regex pattern for parsing\n",
    "message_pattern = r\"^\\[(\\d{1,2}\\.\\d{1,2}\\.\\d{4}, \\d{1,2}:\\d{2}:\\d{2})\\] ([^:]+): (.*)\"\n",
    "system_message_pattern = r\"^\\[(\\d{1,2}\\.\\d{1,2}\\.\\d{4}, \\d{1,2}:\\d{2}:\\d{2})\\] ([^\\n]+)$\"\n",
    "\n",
    "# Step 3: Create lists to hold structured data\n",
    "timestamps = []\n",
    "senders = []\n",
    "messages = []\n",
    "message_types = []  # To differentiate between text and media/system messages\n",
    "\n",
    "# Step 4: Parse chat lines\n",
    "for line in chat_data:\n",
    "    message_match = re.match(message_pattern, line)\n",
    "    system_message_match = re.match(system_message_pattern, line)\n",
    "    \n",
    "    if message_match:\n",
    "        timestamps.append(message_match.group(1))\n",
    "        senders.append(message_match.group(2))\n",
    "        messages.append(message_match.group(3))\n",
    "        if \"<attached:\" in message_match.group(3) or \"<image omitted>\" in message_match.group(3):\n",
    "            message_types.append(\"Media\")\n",
    "        else:\n",
    "            message_types.append(\"Text\")\n",
    "    elif system_message_match:\n",
    "        timestamps.append(system_message_match.group(1))\n",
    "        senders.append(None)  # System messages have no sender\n",
    "        messages.append(system_message_match.group(2))\n",
    "        message_types.append(\"System\")\n",
    "\n",
    "# Step 5: Create a DataFrame\n",
    "df = pd.DataFrame({\n",
    "    \"Timestamp\": timestamps,\n",
    "    \"Sender\": senders,\n",
    "    \"Message\": messages,\n",
    "    \"Type\": message_types\n",
    "})\n",
    "\n",
    "# Convert Timestamp to datetime for further analysis\n",
    "df[\"Timestamp\"] = pd.to_datetime(df[\"Timestamp\"], format=\"%d.%m.%Y, %H:%M:%S\")\n",
    "\n",
    "# Step 6: Extract unique senders and save the list\n",
    "unique_senders = df[\"Sender\"].dropna().unique()\n",
    "\n",
    "# Display the unique senders\n",
    "print(\"Unique senders in the chat:\")\n",
    "print(unique_senders)\n",
    "\n",
    "# Save the unique senders to a file for your reference\n",
    "pd.DataFrame(unique_senders, columns=[\"Sender\"]).to_csv(\"unique_senders.csv\", index=False)\n",
    "\n",
    "# Function to replace names\n",
    "def replace_senders(dataframe, name_mapping):\n",
    "    dataframe[\"Sender\"] = dataframe[\"Sender\"].replace(name_mapping)\n",
    "    return dataframe\n",
    "\n",
    "# Save the structured data for reuse\n",
    "df.to_csv(\"structured_chat_data.csv\", index=False)\n",
    "print(\"Chat data has been structured and saved to 'structured_chat_data.csv'.\")\n"
   ]
  },
  {
   "cell_type": "code",
   "execution_count": null,
   "id": "e6887a30-d235-48fd-afc3-2ec272bb0761",
   "metadata": {},
   "outputs": [],
   "source": []
  },
  {
   "cell_type": "code",
   "execution_count": 10,
   "id": "73ceb4f6-026d-47ce-8371-0c61c7907837",
   "metadata": {},
   "outputs": [
    {
     "name": "stdout",
     "output_type": "stream",
     "text": [
      "Sender names have been replaced and saved to 'structured_chat_data_with_replacements.csv'.\n"
     ]
    }
   ],
   "source": [
    "# Step 7: Define the name mapping\n",
    "name_mapping = {\n",
    "    \"sohbet\": \"sohbet\",\n",
    "    \"Kocamm❣️🙈🐣\": \"Gülbin\",\n",
    "    \"Benim Manit🫠💜yeni\": \"Defne\",\n",
    "    \"Ponçik poğaçam\": \"Eslem\",\n",
    "    \"Sarı Çiyan\": \"Zeynep\",\n",
    "    \"Isırmalık Turşu🥹❤️\": \"Duru\",\n",
    "    \"Azra Gülboo\": \"Azra\",\n",
    "    \"Duygu Akar\": \"Ben\",\n",
    "}\n",
    "\n",
    "# Apply the replacements\n",
    "df = replace_senders(df, name_mapping)\n",
    "\n",
    "# Save the updated DataFrame to a new CSV file\n",
    "df.to_csv(\"structured_chat_data_with_replacements.csv\", index=False)\n",
    "\n",
    "print(\"Sender names have been replaced and saved to 'structured_chat_data_with_replacements.csv'.\")\n"
   ]
  },
  {
   "cell_type": "markdown",
   "id": "7a37a72d-435e-4552-9d15-5578bcf277ce",
   "metadata": {},
   "source": [
    "As I was now free of embarrassment, I moved onto parsing the file so that it would step by step generate the structured text format that is free "
   ]
  },
  {
   "cell_type": "markdown",
   "id": "61c5f2f6-a2f9-4533-9c10-664dd1198aa1",
   "metadata": {},
   "source": [
    "Regex Parsing"
   ]
  },
  {
   "cell_type": "markdown",
   "id": "9f67abde-6e68-431e-9601-db99f0556678",
   "metadata": {},
   "source": [
    "Regex (Regular Expression) parsing is a technique used to extract specific patterns of text from unstructured or data. In this project, I used regex parsing, regex parsing allows us to identify and extract key elements such as:\n",
    "    Timestamp: The date and time when a message was sent.\n",
    "    Sender: The person who sent the message.\n",
    "    Message Content: The actual message text or a media placeholder"
   ]
  },
  {
   "cell_type": "markdown",
   "id": "53f82eea-3cef-4727-87bd-e12dbd4cfe83",
   "metadata": {},
   "source": [
    "The regex patterns used in this context are as follows:\n",
    "\n",
    "\n",
    "Pattern 1: \"^\\[(\\d{1,2}\\.\\d{1,2}\\.\\d{4},\\d{1,2}:\\d{2}:\\d{2})\\] ([^:]+): (.*)\"\n",
    "\n",
    "1) \\[(\\d{1,2}\\.\\d{1,2}\\.\\d{4}, \\d{1,2}:\\d{2}:\\d{2})\\]:Captures the timestamp inside square brackets.\n",
    "2) ([^:]+): Captures the sender's name (text before the colon).\n",
    "3) (.*): Captures the message content.\n",
    "\n"
   ]
  },
  {
   "cell_type": "code",
   "execution_count": 17,
   "id": "0e102267-8263-4684-b942-0a23b818c2d9",
   "metadata": {},
   "outputs": [],
   "source": [
    "import re\n",
    "\n",
    "# Read chat file\n",
    "file_path = \"_chat.txt\"  # Replace with your file path\n",
    "with open(file_path, \"r\", encoding=\"utf-8\") as file:\n",
    "    chat_data = file.readlines()\n",
    "\n",
    "# Define regex patterns\n",
    "message_pattern = r\"^\\[(\\d{1,2}\\.\\d{1,2}\\.\\d{4}, \\d{1,2}:\\d{2}:\\d{2})\\] ([^:]+): (.*)\"\n",
    "system_message_pattern = r\"^\\[(\\d{1,2}\\.\\d{1,2}\\.\\d{4}, \\d{1,2}:\\d{2}:\\d{2})\\] ([^\\n]+)$\"\n",
    "\n",
    "# Lists to hold parsed components\n",
    "timestamps = []\n",
    "senders = []\n",
    "messages = []\n",
    "message_types = []\n",
    "\n",
    "# Parse each line in the chat file\n",
    "for line in chat_data:\n",
    "    message_match = re.match(message_pattern, line)\n",
    "    system_message_match = re.match(system_message_pattern, line)\n",
    "\n",
    "    if message_match:\n",
    "        timestamps.append(message_match.group(1))\n",
    "        senders.append(message_match.group(2))\n",
    "        messages.append(message_match.group(3))\n",
    "        message_types.append(\"Text\")\n",
    "    elif system_message_match:\n",
    "        timestamps.append(system_message_match.group(1))\n",
    "        senders.append(None)  # System messages have no sender\n",
    "        messages.append(system_message_match.group(2))\n",
    "        message_types.append(\"System\")\n"
   ]
  },
  {
   "cell_type": "markdown",
   "id": "a31801a6-1d57-42e9-bc63-0d988e058c2d",
   "metadata": {},
   "source": [
    "The above code\n",
    "Matches each line against the two regex patterns:\n",
    "    message_pattern: Extracts regular messages.\n",
    "    system_message_pattern: Extracts system messages.\n",
    "Appends the parsed components:(timestamp, sender, message, type) to separate lists for further processing.\n"
   ]
  },
  {
   "cell_type": "markdown",
   "id": "df426aa0-117d-406d-b17b-627efd1e5f0a",
   "metadata": {},
   "source": [
    "Handling Media Messages"
   ]
  },
  {
   "cell_type": "markdown",
   "id": "8464d93b-38cb-434a-be01-faf27336e88c",
   "metadata": {},
   "source": [
    "In the unprocessed data media files are not recognized.To differentiate between the text and media we will handle the placehodlers."
   ]
  },
  {
   "cell_type": "markdown",
   "id": "6925e580-6794-4bdb-b005-be4cabf699ce",
   "metadata": {},
   "source": [
    "Media messages in the chat are denoted by placeholders such as:\n",
    "\n",
    "<attached: file-name>: Indicates a media file was shared (e.g., images, videos, stickers).\n",
    "<image omitted>: Represents omitted or inaccessible media.\n",
    "These placeholders will be recognized using string patterns or regular expressions."
   ]
  },
  {
   "cell_type": "markdown",
   "id": "cb083fc4-5757-4b6b-b5b9-27194cf653eb",
   "metadata": {},
   "source": [
    "Also, earlier the messga etype was identified as \"Text\", we will now check for the placeholders and actually identify them as \"Media\"."
   ]
  },
  {
   "cell_type": "code",
   "execution_count": null,
   "id": "4e996dbd-7aba-44ee-940a-4a157f461803",
   "metadata": {},
   "outputs": [],
   "source": [
    "# Step 4: Parse each line in the chat file\n",
    "for line in chat_data:\n",
    "    message_match = re.match(message_pattern, line)\n",
    "    system_message_match = re.match(system_message_pattern, line)\n",
    "\n",
    "    if message_match:\n",
    "        timestamps.append(message_match.group(1))\n",
    "        senders.append(message_match.group(2))\n",
    "        message_content = message_match.group(3)\n",
    "\n",
    "        # Check for media placeholders\n",
    "        if \"<attached:\" in message_content or \"<image omitted>\" in message_content:\n",
    "            message_types.append(\"Media\")\n",
    "        else:\n",
    "            message_types.append(\"Text\")\n",
    "\n",
    "        messages.append(message_content)\n",
    "\n",
    "    elif system_message_match:\n",
    "        timestamps.append(system_message_match.group(1))\n",
    "        senders.append(None)  # System messages have no sender\n",
    "        messages.append(system_message_match.group(2))\n",
    "        message_types.append(\"System\")\n",
    "\"\"\"#output disabled since it outputs each line which redundantly takes long for each output, final output will b edisplayed\n",
    "# Output parsed results for verification\n",
    "print(\"Parsed Messages with Media Handling:\")\n",
    "for i in range(len(timestamps)):\n",
    "    print(f\"Timestamp: {timestamps[i]}, Sender: {senders[i]}, Message: {messages[i]}, Type: {message_types[i]}\")\n",
    "\"\"\""
   ]
  },
  {
   "cell_type": "markdown",
   "id": "767d81fa-39a6-4ea1-a638-ea47de1dee9a",
   "metadata": {},
   "source": [
    "**System Messages**"
   ]
  },
  {
   "cell_type": "markdown",
   "id": "e15c18d5-5097-4c7f-a82d-bd516112e5e2",
   "metadata": {},
   "source": [
    "Now, we needed a way to seperate the system messages. They were analyzed using a regex method similarly; although they can be visually analyzed by recognizing these patterns."
   ]
  },
  {
   "cell_type": "markdown",
   "id": "6e6558e6-5482-4e15-8d2a-aaf8de806e38",
   "metadata": {},
   "source": [
    "System messages:\n",
    "\n",
    "Lack a sender and colon (:) separating sender and message.\n",
    "Often describe actions like:\n",
    "Group creation: \"sohbet: Group created\"\n",
    "User addition/removal: \"sohbet added [user]\"\n",
    "Name/icon change: \"sohbet changed group name to [name]\""
   ]
  },
  {
   "cell_type": "markdown",
   "id": "c7d64847-5934-43cb-95f2-fa73554a03d0",
   "metadata": {},
   "source": [
    "While generating the code, two regex patterns were used:\n",
    "\\[(\\d{1,2}\\.\\d{1,2}\\.\\d{4}, \\d{1,2}:\\d{2}:\\d{2})\\]:\n",
    "\n",
    "Captures the timestamp inside square brackets.\n",
    "Matches dates in DD.MM.YYYY, HH:MM:SS format.\n",
    "([^\\n]+):\n",
    "\n",
    "Captures the entire message after the timestamp (since there is no colon or sender)."
   ]
  },
  {
   "cell_type": "code",
   "execution_count": null,
   "id": "23eae03e-281e-41f5-a4f4-866440a59068",
   "metadata": {},
   "outputs": [],
   "source": [
    "# Parse each line in the chat file\n",
    "for line in chat_data:\n",
    "    message_match = re.match(message_pattern, line)\n",
    "    system_message_match = re.match(system_message_pattern, line)\n",
    "\n",
    "    if message_match:\n",
    "        timestamps.append(message_match.group(1))\n",
    "        senders.append(message_match.group(2))\n",
    "        message_content = message_match.group(3)\n",
    "\n",
    "        # Check for media placeholders\n",
    "        if \"<attached:\" in message_content or \"<image omitted>\" in message_content:\n",
    "            message_types.append(\"Media\")\n",
    "        else:\n",
    "            message_types.append(\"Text\")\n",
    "\n",
    "        messages.append(message_content)\n",
    "\n",
    "    elif system_message_match:\n",
    "        timestamps.append(system_message_match.group(1))\n",
    "        senders.append(\"System\")  # Explicitly mark as system\n",
    "        messages.append(system_message_match.group(2))\n",
    "        message_types.append(\"System\")\n"
   ]
  },
  {
   "cell_type": "code",
   "execution_count": null,
   "id": "ae66ce1f-477c-4d7e-99ae-0acc8cfd9e12",
   "metadata": {},
   "outputs": [],
   "source": [
    "# Output parsed results for verification\n",
    "print(\"Parsed System Messages:\")\n",
    "for i in range(len(timestamps)):\n",
    "    if message_types[i] == \"System\":\n",
    "        print(f\"Timestamp: {timestamps[i]}, Message: {messages[i]}, Type: {message_types[i]}\")\n"
   ]
  },
  {
   "cell_type": "code",
   "execution_count": null,
   "id": "5dbe624b-af75-4e49-9648-2990dba720bf",
   "metadata": {},
   "outputs": [],
   "source": []
  },
  {
   "cell_type": "markdown",
   "id": "1a08a603-0db9-405d-b94c-27559a903eb5",
   "metadata": {},
   "source": [
    "**Data Frame Creation**"
   ]
  },
  {
   "cell_type": "markdown",
   "id": "65fde4ba-8e59-43d7-9c4d-4826cbf7e42a",
   "metadata": {},
   "source": [
    "Now we organize the data into frame stuructured format for further analysis. Distinguishing between the data that should be stored into columns and rows, we prepare the data for visual analysis. "
   ]
  },
  {
   "cell_type": "markdown",
   "id": "8e4890fb-1b2b-48b2-a07e-df1c93534195",
   "metadata": {},
   "source": [
    "Here, the columns signify the\n",
    "Timestamp: Contains the date and time for each message.\n",
    "Sender: Indicates the sender (or \"System\" for system messages).\n",
    "Message: The text content of the message or a media placeholder.\n",
    "Type: Specifies if the message is \"Text\", \"Media\", or \"System\".\n",
    "\n",
    "Then, two key steps take place:\n",
    "Data is stored as a Python dictionary with column names as keys and lists of values as values.\n",
    "This dictionary is passed to pd.DataFrame() to create the tabular structure.\n",
    "\n"
   ]
  },
  {
   "cell_type": "code",
   "execution_count": null,
   "id": "47f2ba9d-be80-4c3d-817c-4eb3d84931a1",
   "metadata": {},
   "outputs": [],
   "source": [
    "# Step 5: Create a DataFrame\n",
    "data = {\n",
    "    \"Timestamp\": timestamps,\n",
    "    \"Sender\": senders,\n",
    "    \"Message\": messages,\n",
    "    \"Type\": message_types,\n",
    "}\n",
    "\n",
    "df = pd.DataFrame(data)\n",
    "\n",
    "# Step 6: Convert Timestamp to datetime\n",
    "df[\"Timestamp\"] = pd.to_datetime(df[\"Timestamp\"], format=\"%d.%m.%Y, %H:%M:%S\")\n",
    "\n",
    "# Save the DataFrame to a CSV file\n",
    "df.to_csv(\"final_preprocessed_data.csv\", index=False)\n"
   ]
  },
  {
   "cell_type": "markdown",
   "id": "a5a98034-c9a6-46a3-b88f-47f19b27c20b",
   "metadata": {},
   "source": [
    "Finally! The Final Re-Structured Data"
   ]
  },
  {
   "cell_type": "markdown",
   "id": "30c51dc3-a24f-47b1-9750-12009d30b612",
   "metadata": {},
   "source": [
    "The full code to parse the chat, classify messages (e.g., \"Text\", \"Media\", \"System\"), and save the resulting DataFrame to a CSV file is as follows"
   ]
  },
  {
   "cell_type": "code",
   "execution_count": 52,
   "id": "6123ece8-f313-4686-88d2-132dedae02e1",
   "metadata": {},
   "outputs": [
    {
     "name": "stdout",
     "output_type": "stream",
     "text": [
      "Chat data has been structured and saved to 'final_chat_data.csv'.\n"
     ]
    }
   ],
   "source": [
    "import re\n",
    "import pandas as pd\n",
    "\n",
    "# Step 1: Read the chat file\n",
    "file_path = \"_chat.txt\"  # Replace with your file path\n",
    "with open(file_path, \"r\", encoding=\"utf-8\") as file:\n",
    "    chat_data = file.readlines()\n",
    "\n",
    "# Step 2: Define regex patterns for parsing\n",
    "message_pattern = r\"^\\[(\\d{1,2}\\.\\d{1,2}\\.\\d{4}, \\d{1,2}:\\d{2}:\\d{2})\\] ([^:]+): (.*)\"\n",
    "system_message_pattern = r\"^\\[(\\d{1,2}\\.\\d{1,2}\\.\\d{4}, \\d{1,2}:\\d{2}:\\d{2})\\] ([^\\n]+)$\"\n",
    "\n",
    "# Step 3: Create lists to hold structured data\n",
    "timestamps = []\n",
    "senders = []\n",
    "messages = []\n",
    "message_types = []  # To differentiate between text, media, and system messages\n",
    "\n",
    "# Step 4: Parse chat lines\n",
    "for line in chat_data:\n",
    "    # Match user messages\n",
    "    message_match = re.match(message_pattern, line)\n",
    "    # Match system messages (e.g., group creation or user addition)\n",
    "    system_message_match = re.match(system_message_pattern, line)\n",
    "    \n",
    "    if message_match:\n",
    "        # Extract timestamp, sender, and message content\n",
    "        timestamps.append(message_match.group(1))\n",
    "        senders.append(message_match.group(2))\n",
    "        message_content = message_match.group(3)\n",
    "        messages.append(message_content)\n",
    "        \n",
    "        # Check if the message contains media placeholders\n",
    "        if \"<attached:\" in message_content or \"<image omitted>\" in message_content:\n",
    "            message_types.append(\"Media\")\n",
    "        else:\n",
    "            message_types.append(\"Text\")\n",
    "    \n",
    "    elif system_message_match:\n",
    "        # Extract timestamp and system message content\n",
    "        timestamps.append(system_message_match.group(1))\n",
    "        senders.append(\"System\")  # Explicitly mark as system\n",
    "        messages.append(system_message_match.group(2))\n",
    "        message_types.append(\"System\")\n",
    "\n",
    "# Step 5: Define name mapping to replace sender names with aliases\n",
    "name_mapping = {\n",
    "    \"sohbet\": \"System\",\n",
    "    \"Kocamm❣️🙈🐣\": \"Gülbin\",\n",
    "    \"Benim Manit🫠💜yeni\": \"Defne\",\n",
    "    \"Ponçik poğaçam\": \"Eslem\",\n",
    "    \"Sarı Çiyan\": \"Zeynep\",\n",
    "    \"Isırmalık Turşu🥹❤️\": \"Duru\",\n",
    "    \"Azra Gülboo\": \"Azra\",\n",
    "    \"Duygu Akar\": \"Ben\",\n",
    "}\n",
    "\n",
    "# Replace sender names with mapped names\n",
    "mapped_senders = [name_mapping.get(sender, sender) for sender in senders]\n",
    "\n",
    "# Step 6: Create a DataFrame\n",
    "df = pd.DataFrame({\n",
    "    \"Timestamp\": timestamps,\n",
    "    \"Sender\": mapped_senders,  # Use mapped sender names\n",
    "    \"Message\": messages,\n",
    "    \"Type\": message_types\n",
    "})\n",
    "\n",
    "# Convert Timestamp to datetime for better analysis\n",
    "df[\"Timestamp\"] = pd.to_datetime(df[\"Timestamp\"], format=\"%d.%m.%Y, %H:%M:%S\")\n",
    "\n",
    "# Step 7: Save the structured data for reuse\n",
    "df.to_csv(\"final_chat_data.csv\", index=False)\n",
    "\n",
    "print(\"Chat data has been structured and saved to 'final_chat_data.csv'.\")\n"
   ]
  },
  {
   "cell_type": "code",
   "execution_count": null,
   "id": "5eccd5c1-2061-442f-af4a-3b797ce460b5",
   "metadata": {},
   "outputs": [],
   "source": []
  },
  {
   "cell_type": "code",
   "execution_count": null,
   "id": "f43d9765-07e6-41e4-ae04-f045088bc5f0",
   "metadata": {},
   "outputs": [],
   "source": []
  }
 ],
 "metadata": {
  "kernelspec": {
   "display_name": "anaconda-panel-2023.05-py310",
   "language": "python",
   "name": "conda-env-anaconda-panel-2023.05-py310-py"
  },
  "language_info": {
   "codemirror_mode": {
    "name": "ipython",
    "version": 3
   },
   "file_extension": ".py",
   "mimetype": "text/x-python",
   "name": "python",
   "nbconvert_exporter": "python",
   "pygments_lexer": "ipython3",
   "version": "3.11.5"
  }
 },
 "nbformat": 4,
 "nbformat_minor": 5
}
