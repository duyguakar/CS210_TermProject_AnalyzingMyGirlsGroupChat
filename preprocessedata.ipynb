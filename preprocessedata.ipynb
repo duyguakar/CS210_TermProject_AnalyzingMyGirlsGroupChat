{
  "cells": [
    {
      "cell_type": "markdown",
      "metadata": {
        "id": "view-in-github",
        "colab_type": "text"
      },
      "source": [
        "<a href=\"https://colab.research.google.com/github/duyguakar/CS210_TermProject_AnalyzingMyGirlsGroupChat/blob/main/preprocessedata.ipynb\" target=\"_parent\"><img src=\"https://colab.research.google.com/assets/colab-badge.svg\" alt=\"Open In Colab\"/></a>"
      ]
    },
    {
      "cell_type": "markdown",
      "id": "2b4fb3d8-d959-4482-9541-f6581482ba94",
      "metadata": {
        "id": "2b4fb3d8-d959-4482-9541-f6581482ba94"
      },
      "source": [
        "#**Preprocessing The Raw Data**"
      ]
    },
    {
      "cell_type": "markdown",
      "id": "572cba0c-5b50-4c25-af32-d13cb1008af7",
      "metadata": {
        "editable": true,
        "tags": [],
        "id": "572cba0c-5b50-4c25-af32-d13cb1008af7"
      },
      "source": [
        "##**Deal With The Devil First**\n",
        "\n",
        "As I was quite afraid that the name  of my friends would be displayed as I saved them on graph axes, I modified the raw  data file so that their names would show up more formally. The following is the script I prepared to obtain a list of how I originally saved them.\n"
      ]
    },
    {
      "cell_type": "code",
      "execution_count": 3,
      "id": "3a4c0da3-07e3-4b9c-a2db-6bffad705c45",
      "metadata": {
        "colab": {
          "base_uri": "https://localhost:8080/"
        },
        "id": "3a4c0da3-07e3-4b9c-a2db-6bffad705c45",
        "outputId": "78e8cc15-40a3-4abc-ba5f-521d4cf0ccef"
      },
      "outputs": [
        {
          "output_type": "stream",
          "name": "stdout",
          "text": [
            "Unique senders in the chat:\n",
            "['sohbet' 'Kocamm❣️🙈🐣' 'Benim Manit\\U0001fae0💜yeni' 'Ponçik poğaçam'\n",
            " 'Sarı Çiyan' 'Isırmalık Turşu\\U0001f979❤️' 'Azra Gülboo' 'Duygu Akar']\n",
            "Chat data has been structured and saved to 'structured_chat_data.csv'.\n"
          ]
        }
      ],
      "source": [
        "import re\n",
        "import pandas as pd\n",
        "\n",
        "# Step 1: Read the chat file\n",
        "file_path = \"_chat.txt\"\n",
        "with open(file_path, \"r\", encoding=\"utf-8\") as file:\n",
        "    chat_data = file.readlines()\n",
        "\n",
        "# Step 2: Define regex pattern for parsing\n",
        "message_pattern = r\"^\\[(\\d{1,2}\\.\\d{1,2}\\.\\d{4}, \\d{1,2}:\\d{2}:\\d{2})\\] ([^:]+): (.*)\"\n",
        "system_message_pattern = r\"^\\[(\\d{1,2}\\.\\d{1,2}\\.\\d{4}, \\d{1,2}:\\d{2}:\\d{2})\\] ([^\\n]+)$\"\n",
        "\n",
        "# Step 3: Create lists to hold structured data\n",
        "timestamps = []\n",
        "senders = []\n",
        "messages = []\n",
        "message_types = []  # To differentiate between text and media/system messages\n",
        "\n",
        "# Step 4: Parse chat lines\n",
        "for line in chat_data:\n",
        "    message_match = re.match(message_pattern, line)\n",
        "    system_message_match = re.match(system_message_pattern, line)\n",
        "\n",
        "    if message_match:\n",
        "        timestamps.append(message_match.group(1))\n",
        "        senders.append(message_match.group(2))\n",
        "        messages.append(message_match.group(3))\n",
        "        if \"<attached:\" in message_match.group(3) or \"<image omitted>\" in message_match.group(3):\n",
        "            message_types.append(\"Media\")\n",
        "        else:\n",
        "            message_types.append(\"Text\")\n",
        "    elif system_message_match:\n",
        "        timestamps.append(system_message_match.group(1))\n",
        "        senders.append(None)  # System messages have no sender\n",
        "        messages.append(system_message_match.group(2))\n",
        "        message_types.append(\"System\")\n",
        "\n",
        "# Step 5: Create a DataFrame\n",
        "df = pd.DataFrame({\n",
        "    \"Timestamp\": timestamps,\n",
        "    \"Sender\": senders,\n",
        "    \"Message\": messages,\n",
        "    \"Type\": message_types\n",
        "})\n",
        "\n",
        "# Convert Timestamp to datetime for further analysis\n",
        "df[\"Timestamp\"] = pd.to_datetime(df[\"Timestamp\"], format=\"%d.%m.%Y, %H:%M:%S\")\n",
        "\n",
        "# Step 6: Extract unique senders and save the list\n",
        "unique_senders = df[\"Sender\"].dropna().unique()\n",
        "\n",
        "# Display the unique senders\n",
        "print(\"Unique senders in the chat:\")\n",
        "print(unique_senders)\n",
        "\n",
        "\n",
        "pd.DataFrame(unique_senders, columns=[\"Sender\"]).to_csv(\"unique_senders.csv\", index=False)\n",
        "\n",
        "# Function to replace names\n",
        "def replace_senders(dataframe, name_mapping):\n",
        "    dataframe[\"Sender\"] = dataframe[\"Sender\"].replace(name_mapping)\n",
        "    return dataframe\n",
        "\n",
        "# Save the structured data for reuse\n",
        "df.to_csv(\"structured_chat_data.csv\", index=False)\n",
        "print(\"Chat data has been structured and saved to 'structured_chat_data.csv'.\")\n"
      ]
    },
    {
      "cell_type": "code",
      "execution_count": 4,
      "id": "73ceb4f6-026d-47ce-8371-0c61c7907837",
      "metadata": {
        "colab": {
          "base_uri": "https://localhost:8080/"
        },
        "id": "73ceb4f6-026d-47ce-8371-0c61c7907837",
        "outputId": "474d368d-57fd-4f5b-9863-ef934feb7250"
      },
      "outputs": [
        {
          "output_type": "stream",
          "name": "stdout",
          "text": [
            "Sender names have been replaced and saved to 'structured_chat_data_with_replacements.csv'.\n"
          ]
        }
      ],
      "source": [
        "# Step 7: Define the name mapping\n",
        "name_mapping = {\n",
        "    \"sohbet\": \"sohbet\",\n",
        "    \"Kocamm❣️🙈🐣\": \"Gülbin\",\n",
        "    \"Benim Manit🫠💜yeni\": \"Defne\",\n",
        "    \"Ponçik poğaçam\": \"Eslem\",\n",
        "    \"Sarı Çiyan\": \"Zeynep\",\n",
        "    \"Isırmalık Turşu🥹❤️\": \"Duru\",\n",
        "    \"Azra Gülboo\": \"Azra\",\n",
        "    \"Duygu Akar\": \"Ben\",\n",
        "}\n",
        "\n",
        "# Apply the replacements\n",
        "df = replace_senders(df, name_mapping)\n",
        "\n",
        "# Save the updated DataFrame to a new CSV file\n",
        "df.to_csv(\"structured_chat_data_with_replacements.csv\", index=False)\n",
        "\n",
        "print(\"Sender names have been replaced and saved to 'structured_chat_data_with_replacements.csv'.\")\n"
      ]
    },
    {
      "cell_type": "markdown",
      "id": "7a37a72d-435e-4552-9d15-5578bcf277ce",
      "metadata": {
        "id": "7a37a72d-435e-4552-9d15-5578bcf277ce"
      },
      "source": [
        "As I was now free of embarrassment, I moved onto parsing the file so that it would step by step generate the structured text format that is free"
      ]
    },
    {
      "cell_type": "markdown",
      "id": "61c5f2f6-a2f9-4533-9c10-664dd1198aa1",
      "metadata": {
        "id": "61c5f2f6-a2f9-4533-9c10-664dd1198aa1"
      },
      "source": [
        "##**Regex Parsing**"
      ]
    },
    {
      "cell_type": "markdown",
      "id": "9f67abde-6e68-431e-9601-db99f0556678",
      "metadata": {
        "id": "9f67abde-6e68-431e-9601-db99f0556678"
      },
      "source": [
        "Regex (Regular Expression) parsing is a technique used to extract specific patterns of text from unstructured or data.\n",
        "In this project, I used regex parsing, regex parsing allows us to identify and extract key elements such as:\n",
        "* Timestamp: The date and time when a message was sent.\n",
        "* Sender: The person who sent the message.\n",
        "*Message Content: The actual message text or a media placeholder"
      ]
    },
    {
      "cell_type": "markdown",
      "id": "53f82eea-3cef-4727-87bd-e12dbd4cfe83",
      "metadata": {
        "id": "53f82eea-3cef-4727-87bd-e12dbd4cfe83"
      },
      "source": [
        "The regex patterns used in this context are as follows\n",
        "\n",
        "1) \\[(\\d{1,2}\\.\\d{1,2}\\.\\d{4}, \\d{1,2}:\\d{2}:\\d{2})\\]:Captures the timestamp inside square brackets.\n",
        "\n",
        "2) ([^:]+): Captures the sender's name (text before the colon).\n",
        "\n",
        "3) (.*): Captures the message content.\n",
        "\n"
      ]
    },
    {
      "cell_type": "code",
      "execution_count": 5,
      "id": "0e102267-8263-4684-b942-0a23b818c2d9",
      "metadata": {
        "id": "0e102267-8263-4684-b942-0a23b818c2d9"
      },
      "outputs": [],
      "source": [
        "import re\n",
        "\n",
        "# Read chat file\n",
        "file_path = \"_chat.txt\"  # Replace with your file path\n",
        "with open(file_path, \"r\", encoding=\"utf-8\") as file:\n",
        "    chat_data = file.readlines()\n",
        "\n",
        "# Define regex patterns\n",
        "message_pattern = r\"^\\[(\\d{1,2}\\.\\d{1,2}\\.\\d{4}, \\d{1,2}:\\d{2}:\\d{2})\\] ([^:]+): (.*)\"\n",
        "system_message_pattern = r\"^\\[(\\d{1,2}\\.\\d{1,2}\\.\\d{4}, \\d{1,2}:\\d{2}:\\d{2})\\] ([^\\n]+)$\"\n",
        "\n",
        "# Lists to hold parsed components\n",
        "timestamps = []\n",
        "senders = []\n",
        "messages = []\n",
        "message_types = []\n",
        "\n",
        "# Parse each line in the chat file\n",
        "for line in chat_data:\n",
        "    message_match = re.match(message_pattern, line)\n",
        "    system_message_match = re.match(system_message_pattern, line)\n",
        "\n",
        "    if message_match:\n",
        "        timestamps.append(message_match.group(1))\n",
        "        senders.append(message_match.group(2))\n",
        "        messages.append(message_match.group(3))\n",
        "        message_types.append(\"Text\")\n",
        "    elif system_message_match:\n",
        "        timestamps.append(system_message_match.group(1))\n",
        "        senders.append(None)  # System messages have no sender\n",
        "        messages.append(system_message_match.group(2))\n",
        "        message_types.append(\"System\")\n"
      ]
    },
    {
      "cell_type": "markdown",
      "id": "a31801a6-1d57-42e9-bc63-0d988e058c2d",
      "metadata": {
        "id": "a31801a6-1d57-42e9-bc63-0d988e058c2d"
      },
      "source": [
        "The above code matches each line against the two regex patterns:\n",
        "    \n",
        "  * message_pattern: Extracts regular messages.\n",
        "  \n",
        "* system_message_pattern: Extracts system messages.\n",
        "\n",
        "Parsed components are appneded:(timestamp, sender, message, type) to separate lists for further processing.\n"
      ]
    },
    {
      "cell_type": "markdown",
      "id": "df426aa0-117d-406d-b17b-627efd1e5f0a",
      "metadata": {
        "id": "df426aa0-117d-406d-b17b-627efd1e5f0a"
      },
      "source": [
        "#**Handling Media Messages**"
      ]
    },
    {
      "cell_type": "markdown",
      "id": "8464d93b-38cb-434a-be01-faf27336e88c",
      "metadata": {
        "id": "8464d93b-38cb-434a-be01-faf27336e88c"
      },
      "source": [
        "In the unprocessed data media files are not recognized and cause errors.To differentiate between the text and media we will handle the placehodlers."
      ]
    },
    {
      "cell_type": "markdown",
      "id": "6925e580-6794-4bdb-b005-be4cabf699ce",
      "metadata": {
        "id": "6925e580-6794-4bdb-b005-be4cabf699ce"
      },
      "source": [
        "Media messages in the chat are denoted by placeholders such as:\n",
        "\n",
        "<attached: file-name>: Indicates a media file was shared (e.g., images, videos, stickers)\n",
        "<image omitted>: Represents omitted or inaccessible media.\n",
        "\n",
        "These placeholders will be recognized using string patterns or regular expressions."
      ]
    },
    {
      "cell_type": "markdown",
      "id": "cb083fc4-5757-4b6b-b5b9-27194cf653eb",
      "metadata": {
        "id": "cb083fc4-5757-4b6b-b5b9-27194cf653eb"
      },
      "source": [
        "Also, earlier the messga etype was identified as \"Text\", we will now check for the placeholders and actually identify them as \"Media\"."
      ]
    },
    {
      "cell_type": "code",
      "execution_count": 6,
      "id": "4e996dbd-7aba-44ee-940a-4a157f461803",
      "metadata": {
        "colab": {
          "base_uri": "https://localhost:8080/",
          "height": 107
        },
        "id": "4e996dbd-7aba-44ee-940a-4a157f461803",
        "outputId": "314df239-1d08-4d78-ccf7-96e0aa78bf33"
      },
      "outputs": [
        {
          "output_type": "execute_result",
          "data": {
            "text/plain": [
              "'#output disabled since it outputs each line which redundantly takes long for each output, final output will b edisplayed\\n# Output parsed results for verification\\nprint(\"Parsed Messages with Media Handling:\")\\nfor i in range(len(timestamps)):\\n    print(f\"Timestamp: {timestamps[i]}, Sender: {senders[i]}, Message: {messages[i]}, Type: {message_types[i]}\")\\n'"
            ],
            "application/vnd.google.colaboratory.intrinsic+json": {
              "type": "string"
            }
          },
          "metadata": {},
          "execution_count": 6
        }
      ],
      "source": [
        "# Step 4: Parse each line in the chat file\n",
        "for line in chat_data:\n",
        "    message_match = re.match(message_pattern, line)\n",
        "    system_message_match = re.match(system_message_pattern, line)\n",
        "\n",
        "    if message_match:\n",
        "        timestamps.append(message_match.group(1))\n",
        "        senders.append(message_match.group(2))\n",
        "        message_content = message_match.group(3)\n",
        "\n",
        "        # Check for media placeholders\n",
        "        if \"<attached:\" in message_content or \"<image omitted>\" in message_content:\n",
        "            message_types.append(\"Media\")\n",
        "        else:\n",
        "            message_types.append(\"Text\")\n",
        "\n",
        "        messages.append(message_content)\n",
        "\n",
        "    elif system_message_match:\n",
        "        timestamps.append(system_message_match.group(1))\n",
        "        senders.append(None)  # System messages have no sender\n",
        "        messages.append(system_message_match.group(2))\n",
        "        message_types.append(\"System\")\n",
        "\"\"\"#output disabled since it outputs each line which redundantly takes long for each output, final output will b edisplayed\n",
        "# Output parsed results for verification\n",
        "print(\"Parsed Messages with Media Handling:\")\n",
        "for i in range(len(timestamps)):\n",
        "    print(f\"Timestamp: {timestamps[i]}, Sender: {senders[i]}, Message: {messages[i]}, Type: {message_types[i]}\")\n",
        "\"\"\""
      ]
    },
    {
      "cell_type": "markdown",
      "id": "767d81fa-39a6-4ea1-a638-ea47de1dee9a",
      "metadata": {
        "id": "767d81fa-39a6-4ea1-a638-ea47de1dee9a"
      },
      "source": [
        "#**System Messages**"
      ]
    },
    {
      "cell_type": "markdown",
      "id": "e15c18d5-5097-4c7f-a82d-bd516112e5e2",
      "metadata": {
        "id": "e15c18d5-5097-4c7f-a82d-bd516112e5e2"
      },
      "source": [
        "Now, we needed a way to seperate the system messages. They were analyzed using a regex method similarly; although they can be visually analyzed by recognizing these patterns."
      ]
    },
    {
      "cell_type": "markdown",
      "id": "6e6558e6-5482-4e15-8d2a-aaf8de806e38",
      "metadata": {
        "id": "6e6558e6-5482-4e15-8d2a-aaf8de806e38"
      },
      "source": [
        "**How They Look:**\n",
        "\n",
        "Lack a sender and colon (:) separating sender and message.\n",
        "Often describe actions like:\n",
        "Group creation: \"sohbet: Group created\"\n",
        "User addition/removal: \"sohbet added [user]\"\n",
        "Name/icon change: \"sohbet changed group name to [name]\""
      ]
    },
    {
      "cell_type": "code",
      "source": [],
      "metadata": {
        "id": "1E-WoyGsiBa5"
      },
      "id": "1E-WoyGsiBa5",
      "execution_count": null,
      "outputs": []
    },
    {
      "cell_type": "markdown",
      "id": "c7d64847-5934-43cb-95f2-fa73554a03d0",
      "metadata": {
        "id": "c7d64847-5934-43cb-95f2-fa73554a03d0"
      },
      "source": [
        "While generating the code, two regex patterns were used:\n",
        "\n",
        "**1) \\[(\\d{1,2}\\.\\d{1,2}\\.\\d{4}, \\d{1,2}:\\d{2}:\\d{2})\\]:**\n",
        "\n",
        "Captures the timestamp inside square brackets.\n",
        "Matches dates in DD.MM.YYYY, HH:MM:SS format.\n",
        "\n",
        "**2)([^\\n]+):**\n",
        "\n",
        "Captures the entire message after the timestamp (since there is no colon or sender)."
      ]
    },
    {
      "cell_type": "code",
      "execution_count": 7,
      "id": "23eae03e-281e-41f5-a4f4-866440a59068",
      "metadata": {
        "id": "23eae03e-281e-41f5-a4f4-866440a59068"
      },
      "outputs": [],
      "source": [
        "# Parse each line in the chat file\n",
        "for line in chat_data:\n",
        "    message_match = re.match(message_pattern, line)\n",
        "    system_message_match = re.match(system_message_pattern, line)\n",
        "\n",
        "    if message_match:\n",
        "        timestamps.append(message_match.group(1))\n",
        "        senders.append(message_match.group(2))\n",
        "        message_content = message_match.group(3)\n",
        "\n",
        "        # Check for media placeholders\n",
        "        if \"<attached:\" in message_content or \"<image omitted>\" in message_content:\n",
        "            message_types.append(\"Media\")\n",
        "        else:\n",
        "            message_types.append(\"Text\")\n",
        "\n",
        "        messages.append(message_content)\n",
        "\n",
        "    elif system_message_match:\n",
        "        timestamps.append(system_message_match.group(1))\n",
        "        senders.append(\"System\")  # Explicitly mark as system\n",
        "        messages.append(system_message_match.group(2))\n",
        "        message_types.append(\"System\")\n"
      ]
    },
    {
      "cell_type": "code",
      "execution_count": null,
      "id": "ae66ce1f-477c-4d7e-99ae-0acc8cfd9e12",
      "metadata": {
        "id": "ae66ce1f-477c-4d7e-99ae-0acc8cfd9e12"
      },
      "outputs": [],
      "source": [
        "# Output parsed results for verification\n",
        "print(\"Parsed System Messages:\")\n",
        "for i in range(len(timestamps)):\n",
        "    if message_types[i] == \"System\":\n",
        "        print(f\"Timestamp: {timestamps[i]}, Message: {messages[i]}, Type: {message_types[i]}\")\n"
      ]
    },
    {
      "cell_type": "markdown",
      "id": "1a08a603-0db9-405d-b94c-27559a903eb5",
      "metadata": {
        "id": "1a08a603-0db9-405d-b94c-27559a903eb5"
      },
      "source": [
        "##**Data Frame Creation**"
      ]
    },
    {
      "cell_type": "markdown",
      "id": "65fde4ba-8e59-43d7-9c4d-4826cbf7e42a",
      "metadata": {
        "id": "65fde4ba-8e59-43d7-9c4d-4826cbf7e42a"
      },
      "source": [
        "Now we organize the data into frame stuructured format for further analysis. Distinguishing between the data that should be stored into columns and rows, we prepare the data for visual analysis."
      ]
    },
    {
      "cell_type": "markdown",
      "id": "8e4890fb-1b2b-48b2-a07e-df1c93534195",
      "metadata": {
        "id": "8e4890fb-1b2b-48b2-a07e-df1c93534195"
      },
      "source": [
        "Here, the columns signify\n",
        "\n",
        "**Timestamp:**\n",
        "Contains the date and time for each message.\n",
        "\n",
        "**Sender**\n",
        "Indicates the sender (or \"System\" for system messages).\n",
        "\n",
        "**Message**\n",
        "The text content of the message or a media placeholder.\n",
        "\n",
        "**Type**\n",
        "Specifies if the message is \"Text\", \"Media\", or \"System\".\n",
        "\n",
        "Then, two key steps take place:\n",
        "\n",
        "Data is stored as a Python dictionary with column names as keys and lists of values as values.\n",
        "This dictionary is passed to pd.DataFrame() to create the tabular structure.\n",
        "\n"
      ]
    },
    {
      "cell_type": "code",
      "execution_count": 8,
      "id": "47f2ba9d-be80-4c3d-817c-4eb3d84931a1",
      "metadata": {
        "id": "47f2ba9d-be80-4c3d-817c-4eb3d84931a1"
      },
      "outputs": [],
      "source": [
        "# Step 5: Create a DataFrame\n",
        "data = {\n",
        "    \"Timestamp\": timestamps,\n",
        "    \"Sender\": senders,\n",
        "    \"Message\": messages,\n",
        "    \"Type\": message_types,\n",
        "}\n",
        "\n",
        "df = pd.DataFrame(data)\n",
        "\n",
        "# Step 6: Convert Timestamp to datetime\n",
        "df[\"Timestamp\"] = pd.to_datetime(df[\"Timestamp\"], format=\"%d.%m.%Y, %H:%M:%S\")\n",
        "\n",
        "# Save the DataFrame to a CSV file\n",
        "df.to_csv(\"final_preprocessed_data.csv\", index=False)\n"
      ]
    },
    {
      "cell_type": "markdown",
      "id": "a5a98034-c9a6-46a3-b88f-47f19b27c20b",
      "metadata": {
        "id": "a5a98034-c9a6-46a3-b88f-47f19b27c20b"
      },
      "source": [
        "**Finally! The Final Re-Structured Data**"
      ]
    },
    {
      "cell_type": "markdown",
      "id": "30c51dc3-a24f-47b1-9750-12009d30b612",
      "metadata": {
        "id": "30c51dc3-a24f-47b1-9750-12009d30b612"
      },
      "source": [
        "The full code to parse the chat, classify messages (e.g., \"Text\", \"Media\", \"System\"), and save the resulting DataFrame to a CSV file is as follows"
      ]
    },
    {
      "cell_type": "code",
      "execution_count": 9,
      "id": "6123ece8-f313-4686-88d2-132dedae02e1",
      "metadata": {
        "colab": {
          "base_uri": "https://localhost:8080/"
        },
        "id": "6123ece8-f313-4686-88d2-132dedae02e1",
        "outputId": "6f795f96-a93c-4961-d079-955c58e1f0f7"
      },
      "outputs": [
        {
          "output_type": "stream",
          "name": "stdout",
          "text": [
            "Chat data has been structured and saved to 'final_chat_data.csv'.\n"
          ]
        }
      ],
      "source": [
        "import re\n",
        "import pandas as pd\n",
        "\n",
        "# Step 1: Read the chat file\n",
        "file_path = \"_chat.txt\"  # Replace with your file path\n",
        "with open(file_path, \"r\", encoding=\"utf-8\") as file:\n",
        "    chat_data = file.readlines()\n",
        "\n",
        "# Step 2: Define regex patterns for parsing\n",
        "message_pattern = r\"^\\[(\\d{1,2}\\.\\d{1,2}\\.\\d{4}, \\d{1,2}:\\d{2}:\\d{2})\\] ([^:]+): (.*)\"\n",
        "system_message_pattern = r\"^\\[(\\d{1,2}\\.\\d{1,2}\\.\\d{4}, \\d{1,2}:\\d{2}:\\d{2})\\] ([^\\n]+)$\"\n",
        "\n",
        "# Step 3: Create lists to hold structured data\n",
        "timestamps = []\n",
        "senders = []\n",
        "messages = []\n",
        "message_types = []  # To differentiate between text, media, and system messages\n",
        "\n",
        "# Step 4: Parse chat lines\n",
        "for line in chat_data:\n",
        "    # Match user messages\n",
        "    message_match = re.match(message_pattern, line)\n",
        "    # Match system messages (e.g., group creation or user addition)\n",
        "    system_message_match = re.match(system_message_pattern, line)\n",
        "\n",
        "    if message_match:\n",
        "        # Extract timestamp, sender, and message content\n",
        "        timestamps.append(message_match.group(1))\n",
        "        senders.append(message_match.group(2))\n",
        "        message_content = message_match.group(3)\n",
        "        messages.append(message_content)\n",
        "\n",
        "        # Check if the message contains media placeholders\n",
        "        if \"<attached:\" in message_content or \"<image omitted>\" in message_content:\n",
        "            message_types.append(\"Media\")\n",
        "        else:\n",
        "            message_types.append(\"Text\")\n",
        "\n",
        "    elif system_message_match:\n",
        "        # Extract timestamp and system message content\n",
        "        timestamps.append(system_message_match.group(1))\n",
        "        senders.append(\"System\")  # Explicitly mark as system\n",
        "        messages.append(system_message_match.group(2))\n",
        "        message_types.append(\"System\")\n",
        "\n",
        "# Step 5: Define name mapping to replace sender names with aliases\n",
        "name_mapping = {\n",
        "    \"sohbet\": \"System\",\n",
        "    \"Kocamm❣️🙈🐣\": \"Gülbin\",\n",
        "    \"Benim Manit🫠💜yeni\": \"Defne\",\n",
        "    \"Ponçik poğaçam\": \"Eslem\",\n",
        "    \"Sarı Çiyan\": \"Zeynep\",\n",
        "    \"Isırmalık Turşu🥹❤️\": \"Duru\",\n",
        "    \"Azra Gülboo\": \"Azra\",\n",
        "    \"Duygu Akar\": \"Ben\",\n",
        "}\n",
        "\n",
        "# Replace sender names with mapped names\n",
        "mapped_senders = [name_mapping.get(sender, sender) for sender in senders]\n",
        "\n",
        "# Step 6: Create a DataFrame\n",
        "df = pd.DataFrame({\n",
        "    \"Timestamp\": timestamps,\n",
        "    \"Sender\": mapped_senders,  # Use mapped sender names\n",
        "    \"Message\": messages,\n",
        "    \"Type\": message_types\n",
        "})\n",
        "\n",
        "# Convert Timestamp to datetime for better analysis\n",
        "df[\"Timestamp\"] = pd.to_datetime(df[\"Timestamp\"], format=\"%d.%m.%Y, %H:%M:%S\")\n",
        "\n",
        "# Step 7: Save the structured data for reuse\n",
        "df.to_csv(\"final_chat_data.csv\", index=False)\n",
        "\n",
        "print(\"Chat data has been structured and saved to 'final_chat_data.csv'.\")\n"
      ]
    },
    {
      "cell_type": "code",
      "source": [
        "# Read the saved CSV file\n",
        "final_df = pd.read_csv(\"final_chat_data.csv\")\n",
        "\n",
        "# Print the structured data\n",
        "print(final_df)\n"
      ],
      "metadata": {
        "colab": {
          "base_uri": "https://localhost:8080/"
        },
        "id": "Ze15oerPi1dQ",
        "outputId": "ca3b59bb-6b7b-4a9f-c11e-2e1cd1828f13"
      },
      "id": "Ze15oerPi1dQ",
      "execution_count": 10,
      "outputs": [
        {
          "output_type": "stream",
          "name": "stdout",
          "text": [
            "                 Timestamp  Sender  \\\n",
            "0      2024-10-06 22:39:31  System   \n",
            "1      2024-10-06 22:39:31  Gülbin   \n",
            "2      2024-10-06 22:39:31  System   \n",
            "3      2024-10-06 22:43:00  Gülbin   \n",
            "4      2024-10-06 22:40:30   Defne   \n",
            "...                    ...     ...   \n",
            "38507  2025-01-10 13:49:35    Azra   \n",
            "38508  2025-01-10 13:49:37    Azra   \n",
            "38509  2025-01-10 13:49:38    Azra   \n",
            "38510  2025-01-10 13:49:42    Azra   \n",
            "38511  2025-01-10 13:49:45    Azra   \n",
            "\n",
            "                                                 Message  Type  \n",
            "0      ‎Messages and calls are end-to-end encrypted. ...  Text  \n",
            "1                       ‎Kocamm❣️🙈🐣 created group “foto”  Text  \n",
            "2                                  ‎Kocamm❣️🙈🐣 added you  Text  \n",
            "3              ‎Kocamm❣️🙈🐣 changed the group description  Text  \n",
            "4                                                      ?  Text  \n",
            "...                                                  ...   ...  \n",
            "38507                                   SAKLAMAK ISTESEM  Text  \n",
            "38508                                     SAKLARIM KIZIM  Text  \n",
            "38509                                              ICTIM  Text  \n",
            "38510                                             VAR MI  Text  \n",
            "38511                                         BASKA SORU  Text  \n",
            "\n",
            "[38512 rows x 4 columns]\n"
          ]
        }
      ]
    }
  ],
  "metadata": {
    "kernelspec": {
      "display_name": "anaconda-panel-2023.05-py310",
      "language": "python",
      "name": "conda-env-anaconda-panel-2023.05-py310-py"
    },
    "language_info": {
      "codemirror_mode": {
        "name": "ipython",
        "version": 3
      },
      "file_extension": ".py",
      "mimetype": "text/x-python",
      "name": "python",
      "nbconvert_exporter": "python",
      "pygments_lexer": "ipython3",
      "version": "3.11.5"
    },
    "colab": {
      "provenance": [],
      "include_colab_link": true
    }
  },
  "nbformat": 4,
  "nbformat_minor": 5
}